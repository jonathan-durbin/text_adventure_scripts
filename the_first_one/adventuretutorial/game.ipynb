{
 "cells": [
  {
   "cell_type": "code",
   "execution_count": null,
   "metadata": {},
   "outputs": [],
   "source": [
    "import world\n",
    "from player import Player"
   ]
  },
  {
   "cell_type": "code",
   "execution_count": null,
   "metadata": {},
   "outputs": [],
   "source": [
    "def play():\n",
    "    world.load_tiles()\n",
    "    player = Player()\n",
    "    # These lines load the starting room and display the text\n",
    "    room = world.tile_exists(player.location_x, player.location_y)\n",
    "    \n",
    "    while player.is_alive() and not player.victory:\n",
    "        room = world.tile_exists(player.location_x, player.location_y)\n",
    "        room.modify_player(player)\n",
    "        # Check again since the room could have changed the player's state\n",
    "        \n",
    "        if player.is_alive() and not player.victory:\n",
    "            print(\"Choose an action:\\n\")\n",
    "            available_actions = room.available_actions()\n",
    "            for action in available_actions:\n",
    "                print(action)\n",
    "            action_input = input('Action: ')\n",
    "            for action in available_actions:\n",
    "                if action_input == action.hotkey:\n",
    "                    player.do_action(action, **action.kwargs)\n",
    "                    break"
   ]
  },
  {
   "cell_type": "code",
   "execution_count": null,
   "metadata": {},
   "outputs": [],
   "source": [
    "if __name__ == \"__main__\":\n",
    "    play()"
   ]
  }
 ],
 "metadata": {
  "kernelspec": {
   "display_name": "Python 3",
   "language": "python",
   "name": "python3"
  },
  "language_info": {
   "codemirror_mode": {
    "name": "ipython",
    "version": 3
   },
   "file_extension": ".py",
   "mimetype": "text/x-python",
   "name": "python",
   "nbconvert_exporter": "python",
   "pygments_lexer": "ipython3",
   "version": "3.6.4"
  }
 },
 "nbformat": 4,
 "nbformat_minor": 2
}
