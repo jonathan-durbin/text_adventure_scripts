{
 "cells": [
  {
   "cell_type": "code",
   "execution_count": null,
   "metadata": {},
   "outputs": [],
   "source": [
    "_world = {}\n",
    "starting_position = (0, 0)\n",
    " \n",
    "def load_tiles():\n",
    "    \"\"\"Parses a file that describes the world space into the _world object\"\"\"\n",
    "    with open('resources/map.txt', 'r') as f:\n",
    "        rows = f.readlines()\n",
    "    x_max = len(rows[0].split('\\t')) # Assumes all rows contain the same number of tabs\n",
    "    for y in range(len(rows)):\n",
    "        cols = rows[y].split('\\t')\n",
    "        for x in range(x_max):\n",
    "            tile_name = cols[x].replace('\\n', '') # Windows users may need to replace '\\r\\n'\n",
    "            if tile_name == 'start_room':\n",
    "                global starting_position\n",
    "                starting_position = (x, y)\n",
    "            _world[(x, y)] = None if tile_name == '' else getattr(__import__('tiles'), tile_name)(x, y)"
   ]
  },
  {
   "cell_type": "code",
   "execution_count": null,
   "metadata": {},
   "outputs": [],
   "source": [
    "def tile_exists(x, y):\n",
    "    return _world.get((x, y))"
   ]
  }
 ],
 "metadata": {
  "kernelspec": {
   "display_name": "Python 3",
   "language": "python",
   "name": "python3"
  },
  "language_info": {
   "codemirror_mode": {
    "name": "ipython",
    "version": 3
   },
   "file_extension": ".py",
   "mimetype": "text/x-python",
   "name": "python",
   "nbconvert_exporter": "python",
   "pygments_lexer": "ipython3",
   "version": "3.6.4"
  }
 },
 "nbformat": 4,
 "nbformat_minor": 2
}
