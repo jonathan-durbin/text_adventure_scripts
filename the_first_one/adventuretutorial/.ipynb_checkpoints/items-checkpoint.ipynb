{
 "cells": [
  {
   "cell_type": "code",
   "execution_count": null,
   "metadata": {},
   "outputs": [],
   "source": [
    "class item():\n",
    "# The base class for all items\n",
    "    def __init__(self, name, description, value):\n",
    "        self.name = name\n",
    "        self.description = description\n",
    "        self.value = value\n",
    "    \n",
    "    def __str__(self):\n",
    "        return \"{}\\n=====\\n{}\\nValue: {}\\n\".format(self.name, \n",
    "                                                   self.description, \n",
    "                                                   self.value)"
   ]
  },
  {
   "cell_type": "code",
   "execution_count": null,
   "metadata": {},
   "outputs": [],
   "source": [
    "class gold(item):\n",
    "    def __init(self, amt):\n",
    "        self.amt = amt\n",
    "        super().__init__(name=\"G\\old\",\n",
    "                        description=\"You have {} gold. \\nNot that is matters or anything.\".format(str(self.amt)),\n",
    "                        value=self.amt)"
   ]
  },
  {
   "cell_type": "code",
   "execution_count": null,
   "metadata": {},
   "outputs": [],
   "source": [
    "class weapon(item):\n",
    "    def __init__(self, name, description, value, damage):\n",
    "        self.damage = damage\n",
    "        super().__init__(name, description, value)\n",
    "        \n",
    "    def __str__(self):\n",
    "        return \"{}\\n=====\\n{}\\nValue: {}\\nDamage: {}\".format(self.name, \n",
    "                                                             self.description, \n",
    "                                                             self.value, \n",
    "                                                             self.damage)\n",
    "\n",
    "class consumable(item):\n",
    "    def __init__(self, name, description, heal_value):\n",
    "        self.heal_value = heal_value\n",
    "        super().__init__(name, description, value)\n",
    "        \n",
    "    def __str__(self):\n",
    "        return \"{} (+{} HP)\".format(self.name, self.heal_value)"
   ]
  },
  {
   "cell_type": "code",
   "execution_count": null,
   "metadata": {},
   "outputs": [],
   "source": [
    "class rock(weapon):\n",
    "    def __init__(self):\n",
    "        super().__init__(name=\"Rock\",\n",
    "                        description=\"A fist-sized rock, suitable for bludgeoning.\",\n",
    "                        value=0,\n",
    "                        damage=5)\n",
    "\n",
    "class dagger(weapon):\n",
    "    def __init__(self):\n",
    "        super().__init__(name=\"Dagger\",\n",
    "                        description=\"A small dagger with a rusty blade. \\nSomewhat more dangerous than a rock.\",\n",
    "                        value=10,\n",
    "                        damage=10)"
   ]
  },
  {
   "cell_type": "code",
   "execution_count": null,
   "metadata": {},
   "outputs": [],
   "source": [
    "class moldy_bread(consumable):\n",
    "    def __init__(self):\n",
    "        super().__init__(name = \"Moldy Bread\",\n",
    "                         description=\"Half a loaf of bread. It smells nasty. \\nLooks like it tastes nasty too. \\nIt can heal you, though.\",\n",
    "                         heal_value=10)"
   ]
  }
 ],
 "metadata": {
  "kernelspec": {
   "display_name": "Python 3",
   "language": "python",
   "name": "python3"
  },
  "language_info": {
   "codemirror_mode": {
    "name": "ipython",
    "version": 3
   },
   "file_extension": ".py",
   "mimetype": "text/x-python",
   "name": "python",
   "nbconvert_exporter": "python",
   "pygments_lexer": "ipython3",
   "version": "3.6.4"
  }
 },
 "nbformat": 4,
 "nbformat_minor": 2
}
