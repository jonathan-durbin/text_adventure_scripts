{
 "cells": [
  {
   "cell_type": "code",
   "execution_count": null,
   "metadata": {},
   "outputs": [],
   "source": [
    "import random\n",
    "import items, world"
   ]
  },
  {
   "cell_type": "code",
   "execution_count": null,
   "metadata": {},
   "outputs": [],
   "source": [
    "class Player():\n",
    "    def __init__(self):\n",
    "        self.inventory = [items.gold(5),items.rock(),items.moldy_bread()]\n",
    "        self.hp = 100\n",
    "        self.location_x, self.location_y = world.starting_position\n",
    "        self.victory = False\n",
    "        \n",
    "    def is_alive(self):\n",
    "        return self.hp > 0\n",
    "    \n",
    "    def print_inventory(self):\n",
    "        for item in self.inventory:\n",
    "            print(item, '\\n')"
   ]
  },
  {
   "cell_type": "code",
   "execution_count": null,
   "metadata": {},
   "outputs": [],
   "source": [
    "    def do_action(self, action, **kwargs):\n",
    "        action_method = getattr(self, action.method.__name__)\n",
    "        if action_method:\n",
    "            action_method(**kwargs)"
   ]
  },
  {
   "cell_type": "code",
   "execution_count": null,
   "metadata": {},
   "outputs": [],
   "source": [
    "    def move(self, dx, dy):\n",
    "        self.location_x += dx\n",
    "        self.location_y += dy\n",
    "        print(world.tile_exists(self.location_x, self.location_y).intro_text())\n",
    "\n",
    "    def move_north(self):\n",
    "        self.move(dx=0, dy=-1)\n",
    "\n",
    "    def move_south(self):\n",
    "        self.move(dx=0, dy=1)\n",
    "\n",
    "    def move_east(self):\n",
    "        self.move(dx=1, dy=0)\n",
    "\n",
    "    def move_west(self):\n",
    "        self.move(dx=-1, dy=0)"
   ]
  },
  {
   "cell_type": "code",
   "execution_count": null,
   "metadata": {},
   "outputs": [],
   "source": [
    "    def attack(self, enemy):\n",
    "        best_weapon = None\n",
    "        max_dmg = 0\n",
    "        \n",
    "        for i in self.inventory:\n",
    "            if isinstance(i, items.Weapon):\n",
    "                if i.damage > max_dmg:\n",
    "                    max_dmg = i.damage\n",
    "                    best_weapon = i\n",
    "        \n",
    "        print(\"You use {} against {}!\".format(best_weapon.name, enemy.name))\n",
    "        enemy.hp -= best_weapon.damage\n",
    "        if not enemy.is_alive():\n",
    "            print(\"You killed {}!\".format(enemy.name))\n",
    "        else:\n",
    "            print(\"{} HP is {}>\".format(enemy.name, enemy.hp))"
   ]
  },
  {
   "cell_type": "code",
   "execution_count": null,
   "metadata": {},
   "outputs": [],
   "source": [
    "    def Flee(action):\n",
    "        def __init__(self, tile):\n",
    "            super().__init__(method=Player.flee, \n",
    "                             name=\"Flee\", \n",
    "                             hotkey='f', \n",
    "                             tile = tile)"
   ]
  },
  {
   "cell_type": "code",
   "execution_count": null,
   "metadata": {},
   "outputs": [],
   "source": [
    "   def flee(self, tile):\n",
    "        \"\"\"Moves the player randomly to an adjacent tile\"\"\"\n",
    "        available_moves = tile.adjacent_moves()\n",
    "        r = random.randint(0, len(available_moves) - 1)\n",
    "        self.do_action(available_moves[r])"
   ]
  },
  {
   "cell_type": "code",
   "execution_count": null,
   "metadata": {},
   "outputs": [],
   "source": [
    "    def heal(self):\n",
    "        consumables = [item for item in self.inventory \n",
    "                      if isinstance(item, items.consumable)]\n",
    "        if not consumables:\n",
    "            print(\"Don't try to heal when you ain't got no items to heal, fool!\")\n",
    "            return\n",
    "        \n",
    "        for i, item in enumerate(consumables, 1):\n",
    "            print(\"Choose an item to use to heal: \")\n",
    "            print(\"{}. {}\".format(i, item))\n",
    "            \n",
    "        valid = False\n",
    "        while not valid:\n",
    "            choice = input(\"\")\n",
    "            try:\n",
    "                to_eat = consumables[int(choice) - 1]\n",
    "                self.hp = min(100, self.hp + to_eat.heal_value)\n",
    "                self.inventory.remove(to_eat)\n",
    "                print(\"Delicious. current HP: {}\".format(self.hp))\n",
    "                valid = True\n",
    "            except (ValueError, IndexError):\n",
    "                print(\"Wrong choice, pal. Try again.\")"
   ]
  }
 ],
 "metadata": {
  "kernelspec": {
   "display_name": "Python 3",
   "language": "python",
   "name": "python3"
  },
  "language_info": {
   "codemirror_mode": {
    "name": "ipython",
    "version": 3
   },
   "file_extension": ".py",
   "mimetype": "text/x-python",
   "name": "python",
   "nbconvert_exporter": "python",
   "pygments_lexer": "ipython3",
   "version": "3.6.4"
  }
 },
 "nbformat": 4,
 "nbformat_minor": 2
}
