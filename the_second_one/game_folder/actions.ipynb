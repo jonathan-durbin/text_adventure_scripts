{
 "cells": [
  {
   "cell_type": "code",
   "execution_count": 1,
   "metadata": {},
   "outputs": [],
   "source": [
    "from player_file import player"
   ]
  },
  {
   "cell_type": "code",
   "execution_count": 2,
   "metadata": {},
   "outputs": [],
   "source": [
    "class action():\n",
    "    def __init__(self, method, name, hotkey, **kwargs):\n",
    "        self.method = method\n",
    "        self.hotkey = hotkey\n",
    "        self.name = name\n",
    "        self.kwargs = kwargs\n",
    "        \n",
    "    def __str__(self):\n",
    "        return \"{}: {}\".format(self.hotkey, self.name)\n"
   ]
  },
  {
   "cell_type": "code",
   "execution_count": 3,
   "metadata": {},
   "outputs": [],
   "source": [
    "class move_north(action):\n",
    "    def __init__(self):\n",
    "        super().__init__(method=player.move_north, \n",
    "                         name='Move north', \n",
    "                         hotkey='n')\n",
    "\n",
    "class move_south(action):\n",
    "    def __init__(self):\n",
    "        super().__init__(method=player.move_south, \n",
    "                         name='Move south', \n",
    "                         hotkey='s')\n",
    "\n",
    "class move_east(action):\n",
    "    def __init__(self):\n",
    "        super().__init__(method=player.move_east, \n",
    "                         name='Move east', \n",
    "                         hotkey='e')\n",
    "\n",
    "class move_west(action):\n",
    "    def __init__(self):\n",
    "        super().__init__(method=player.move_west, \n",
    "                         name='Move west', \n",
    "                         hotkey='w')\n"
   ]
  },
  {
   "cell_type": "code",
   "execution_count": 4,
   "metadata": {},
   "outputs": [],
   "source": [
    "class view_inventory(action):\n",
    "    \"\"\"Prints the player's inventory\"\"\"\n",
    "    def __init__(self):\n",
    "        super().__init__(method=player.print_inventory, \n",
    "                         name='View inventory', \n",
    "                         hotkey='i')\n"
   ]
  },
  {
   "cell_type": "code",
   "execution_count": 6,
   "metadata": {},
   "outputs": [],
   "source": [
    "class Attack(action):\n",
    "    def __init__(self, enemy):\n",
    "        super().__init__(method=player.attack, \n",
    "                         name=\"Attack\", \n",
    "                         hotkey = 'a', \n",
    "                         enemy=enemy)\n",
    "\n",
    "class Flee(action):\n",
    "    def __init__(self, tile):\n",
    "        super().__init__(method=player.flee, \n",
    "                         name=\"Flee\", \n",
    "                         hotkey='f', \n",
    "                         tile=tile)\n",
    "\n",
    "class Heal(action):\n",
    "    def __init__(self, heal_item):\n",
    "        super().__init__(method=player.heal,\n",
    "                         hotkey = 'h', \n",
    "                         heal_item = heal_item)\n"
   ]
  }
 ],
 "metadata": {
  "kernelspec": {
   "display_name": "Python 3",
   "language": "python",
   "name": "python3"
  },
  "language_info": {
   "codemirror_mode": {
    "name": "ipython",
    "version": 3
   },
   "file_extension": ".py",
   "mimetype": "text/x-python",
   "name": "python",
   "nbconvert_exporter": "python",
   "pygments_lexer": "ipython3",
   "version": "3.6.4"
  }
 },
 "nbformat": 4,
 "nbformat_minor": 2
}
