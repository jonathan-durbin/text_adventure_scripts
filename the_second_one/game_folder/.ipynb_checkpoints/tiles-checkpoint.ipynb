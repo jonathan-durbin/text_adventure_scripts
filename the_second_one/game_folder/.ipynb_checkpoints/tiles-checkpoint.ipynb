{
 "cells": [
  {
   "cell_type": "code",
   "execution_count": 9,
   "metadata": {},
   "outputs": [],
   "source": [
    "import items, enemies, actions, world, npc\n",
    "from player_file import player"
   ]
  },
  {
   "cell_type": "code",
   "execution_count": 10,
   "metadata": {},
   "outputs": [],
   "source": [
    "class map_tile:\n",
    "    def __init__(self, x, y):\n",
    "        self.x = x\n",
    "        self.y = y\n",
    "    \n",
    "    def intro_text(self):\n",
    "        raise NotImplementedError()\n",
    "\n",
    "    def modify_player(self, player):\n",
    "        raise NotImplementedError()\n",
    "    \n",
    "    def adjacent_moves(self):\n",
    "        '''Returns all move actions for adjacent tiles'''\n",
    "        moves = []\n",
    "        if world.tile_exists(self.x + 1, self.y):\n",
    "            moves.append(actions.MoveEast())\n",
    "        if world.tile_exists(self.x - 1, self.y):\n",
    "            moves.append(actions.MoveWest())\n",
    "        if world.tile_exists(self.x, self.y - 1):\n",
    "            moves.append(actions.MoveNorth())\n",
    "        if world.tile_exists(self.x, self.y + 1):\n",
    "            moves.append(actions.MoveSouth())\n",
    "        return moves\n",
    "    \n",
    "    def available_actions(self):\n",
    "        '''Returns all of the available actions in this room.'''\n",
    "        moves = self.adjacent_moves()\n",
    "        moves.append(actions.view_inventory())\n",
    "        \n",
    "        if player.hp < 100:\n",
    "            moves.append(actions.Heal())\n",
    "        \n",
    "        return moves\n"
   ]
  },
  {
   "cell_type": "code",
   "execution_count": null,
   "metadata": {},
   "outputs": [],
   "source": [
    "class start_room(MapTile):\n",
    "    def intro_text(self):\n",
    "        return '''\n",
    "        \n",
    "        You are in a dimly lit room. You see four corridors, each spooky-looking.\n",
    "        In the darkness, you spot a silver piece on the ground.\n",
    "        You try to pick it up, but it's been glued to the floor.\n",
    "        Frustrated and embarassed, you leave.\n",
    "        \n",
    "        '''\n",
    "    \n",
    "    def modify_player(self, player):\n",
    "        #Room has no action on the player\n",
    "        pass\n"
   ]
  }
 ],
 "metadata": {
  "kernelspec": {
   "display_name": "Python 3",
   "language": "python",
   "name": "python3"
  },
  "language_info": {
   "codemirror_mode": {
    "name": "ipython",
    "version": 3
   },
   "file_extension": ".py",
   "mimetype": "text/x-python",
   "name": "python",
   "nbconvert_exporter": "python",
   "pygments_lexer": "ipython3",
   "version": "3.6.4"
  }
 },
 "nbformat": 4,
 "nbformat_minor": 2
}
