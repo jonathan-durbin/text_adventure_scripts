{
 "cells": [
  {
   "cell_type": "code",
   "execution_count": 1,
   "metadata": {},
   "outputs": [],
   "source": [
    "''' Parent class for all enemies'''\n",
    "\n",
    "class enemy:\n",
    "    def __init__(self, name, hp, damage):\n",
    "        self.name = name\n",
    "        self.hp = hp\n",
    "        self.damage = damage\n",
    "        \n",
    "    def is_alive(self):\n",
    "        return self.hp > 0"
   ]
  },
  {
   "cell_type": "code",
   "execution_count": 2,
   "metadata": {},
   "outputs": [],
   "source": [
    "''' Sub-classes for two types of enemies '''\n",
    "\n",
    "class reg_enemy(enemy):\n",
    "    pass\n",
    "\n",
    "class boss(enemy):\n",
    "    def __init__(self, name, hp, damage, type_boss, weapon):\n",
    "        type_boss = True\n",
    "        self.weapon = weapon\n",
    "        super.__init__(name, hp, damage)"
   ]
  },
  {
   "cell_type": "code",
   "execution_count": 3,
   "metadata": {},
   "outputs": [],
   "source": [
    "''' Regular enemies '''\n",
    "\n",
    "sketchy_guy = reg_enemy(name = 'Sketchy Guy',\n",
    "                        hp = 10,\n",
    "                        damage = 7)\n",
    "\n",
    "crazy_guy = reg_enemy(name = 'Crazy Guy',\n",
    "                      hp = 12,\n",
    "                      damage = 9)\n",
    "\n",
    "zombie = reg_enemy(name = 'Zombie',\n",
    "                   hp = 15,\n",
    "                   damage = 4)\n",
    "\n",
    "stitched_monster = reg_enemy(name = 'Stitched Monstrosity',\n",
    "                             hp = 17,\n",
    "                             damage = 12)"
   ]
  },
  {
   "cell_type": "code",
   "execution_count": 4,
   "metadata": {
    "collapsed": true
   },
   "outputs": [
    {
     "ename": "NameError",
     "evalue": "name 'second_law' is not defined",
     "output_type": "error",
     "traceback": [
      "\u001b[1;31m---------------------------------------------------------------------------\u001b[0m",
      "\u001b[1;31mNameError\u001b[0m                                 Traceback (most recent call last)",
      "\u001b[1;32m<ipython-input-4-4c4c5a694565>\u001b[0m in \u001b[0;36m<module>\u001b[1;34m()\u001b[0m\n\u001b[0;32m      2\u001b[0m                            \u001b[0mhp\u001b[0m \u001b[1;33m=\u001b[0m \u001b[1;36m28\u001b[0m\u001b[1;33m,\u001b[0m\u001b[1;33m\u001b[0m\u001b[0m\n\u001b[0;32m      3\u001b[0m                            \u001b[0mdamage\u001b[0m \u001b[1;33m=\u001b[0m \u001b[1;36m18\u001b[0m\u001b[1;33m,\u001b[0m\u001b[1;33m\u001b[0m\u001b[0m\n\u001b[1;32m----> 4\u001b[1;33m                            weapon = second_law)\n\u001b[0m\u001b[0;32m      5\u001b[0m \u001b[1;33m\u001b[0m\u001b[0m\n\u001b[0;32m      6\u001b[0m huge_judge = boss(name = 'The Judge',\n",
      "\u001b[1;31mNameError\u001b[0m: name 'second_law' is not defined"
     ]
    }
   ],
   "source": [
    "''' Bosses '''\n",
    "\n",
    "huge_floating_skull = boss(name = 'Huge Floating Skull',\n",
    "                           hp = 28,\n",
    "                           damage = 19,\n",
    "                           weapon = second_law)\n",
    "\n",
    "huge_judge = boss(name = 'The Judge',\n",
    "                  hp = 35,\n",
    "                  damage = 29,\n",
    "                  weapon = third_law)\n",
    "\n",
    "little_boy = boss(name = 'Little Boy',\n",
    "                  hp = 50,\n",
    "                  damage = 10,\n",
    "                  weapon = zeroth_law)"
   ]
  }
 ],
 "metadata": {
  "kernelspec": {
   "display_name": "Python 3",
   "language": "python",
   "name": "python3"
  },
  "language_info": {
   "codemirror_mode": {
    "name": "ipython",
    "version": 3
   },
   "file_extension": ".py",
   "mimetype": "text/x-python",
   "name": "python",
   "nbconvert_exporter": "python",
   "pygments_lexer": "ipython3",
   "version": "3.6.4"
  }
 },
 "nbformat": 4,
 "nbformat_minor": 2
}
