{
 "cells": [
  {
   "cell_type": "code",
   "execution_count": null,
   "metadata": {},
   "outputs": [],
   "source": [
    "import items\n",
    "\n",
    "class non_playable_character():\n",
    "    def __init__(self):\n",
    "        raise NotImplementedError(\"Do not create raw NPC objects.\")\n",
    "\n",
    "    def __str__(self):\n",
    "        return self.name\n",
    "\n",
    "\n",
    "class trader(non_playable_character):\n",
    "    def __init__(self):\n",
    "        self.name = 'Trader'\n",
    "        self.gold = 100\n",
    "        self.inventory = [items.chalk,\n",
    "                          items.chalk,\n",
    "                          items.chalk,\n",
    "                          items.eraser,\n",
    "                          items.eraser,\n",
    "                          items.slippers]"
   ]
  }
 ],
 "metadata": {
  "kernelspec": {
   "display_name": "Python 3",
   "language": "python",
   "name": "python3"
  },
  "language_info": {
   "codemirror_mode": {
    "name": "ipython",
    "version": 3
   },
   "file_extension": ".py",
   "mimetype": "text/x-python",
   "name": "python",
   "nbconvert_exporter": "python",
   "pygments_lexer": "ipython3",
   "version": "3.6.4"
  }
 },
 "nbformat": 4,
 "nbformat_minor": 2
}
