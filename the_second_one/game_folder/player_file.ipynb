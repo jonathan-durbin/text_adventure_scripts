{
 "cells": [
  {
   "cell_type": "code",
   "execution_count": 1,
   "metadata": {},
   "outputs": [],
   "source": [
    "import items, world"
   ]
  },
  {
   "cell_type": "code",
   "execution_count": 2,
   "metadata": {},
   "outputs": [],
   "source": [
    "class player():\n",
    "    def __init__(self):\n",
    "        self.inventory = [items.chalk, \n",
    "                          items.first_law, \n",
    "                          items.gold_item(7)]\n",
    "        self.hp = 100\n",
    "        self.location_x, self.location_y = world.starting_position\n",
    "        self.victory = False\n",
    "        \n",
    "    def is_alive(self):\n",
    "        return self.hp > 0\n",
    "    \n",
    "    def do_action(self, action, **kwargs):\n",
    "        action_method = getattr(self, action.method.__name__)\n",
    "        if action_method:\n",
    "            action_method(**kwargs)\n",
    "            \n",
    "    def print_inventory(self):\n",
    "        for item in self.inventory:\n",
    "            print(item, '\\n ========== ')"
   ]
  },
  {
   "cell_type": "code",
   "execution_count": 3,
   "metadata": {},
   "outputs": [],
   "source": [
    "    def move(self, dx, dy):\n",
    "        self.location_x += dx\n",
    "        self.location_y += dy\n",
    "        print(world.told_exists(self.location_x, self_location_y).intro_text())\n",
    "        \n",
    "    def move_north(self):\n",
    "        self.move(dx=0, dy=-1)\n",
    "        \n",
    "    def move_south(self):\n",
    "        self.move(dx=0, dy=1)\n",
    "        \n",
    "    def move_east(self):\n",
    "        self.move(dx=-1, dy=0)\n",
    "        \n",
    "    def move_west(self):\n",
    "        self.move(dx=-1, dy=0)"
   ]
  },
  {
   "cell_type": "code",
   "execution_count": 4,
   "metadata": {},
   "outputs": [],
   "source": [
    "    def attack(self, enemy):\n",
    "        best_weapon = None\n",
    "        max_dmg = 0\n",
    "\n",
    "        for i in self.inventory:\n",
    "            if isinstance(i, items.weapon_item):\n",
    "                if i.damage > max_dmg:\n",
    "                    max_dmg = i.damage\n",
    "                    best_weapon = i\n",
    "\n",
    "        print(\"I use {} against {}!\".format(best_weapon.name, enemy.name))\n",
    "        enemy.hp -= best_weapon.damage\n",
    "\n",
    "        if not enemy.is_alive():\n",
    "            print(\"I killed {}.\".format(enemy.name))\n",
    "        else:\n",
    "            print(\"{} health is {}.\".format(enemy.name, enemy.hp))\n",
    "\n",
    "    def flee(self, tile):\n",
    "        '''Move to a random available tile. '''\n",
    "        available_moves = tile.adjacent_moves()\n",
    "        r = random.randint(0, len(available_moves) - 1)\n",
    "        self.do_action(available_moves[r])\n",
    "        \n",
    "    def heal(self):\n",
    "        edibles = [item for item in self.inventory if isinstance(item, items.heal_item)]\n",
    "        \n",
    "        if not edibles:\n",
    "            print('I don\\'t have anything to eat...')\n",
    "            return\n",
    "        \n",
    "        for i, item in enumerate(edibles, 1):\n",
    "            print('Choose an item to heal: ')\n",
    "            print('{}. {}'.format(i, item))\n",
    "            \n",
    "        valid = False\n",
    "        while not valid:\n",
    "            choice = input('I choose: ')\n",
    "            try:\n",
    "                to_eat = edibles[int(choice) - 1]\n",
    "                self.hp = min(100, self.hp + to_eat.healing_points)\n",
    "                self.inventory.remove(to_eat)\n",
    "                print('My HP: {}'.format(self.hp))\n",
    "                valid = True\n",
    "            except(ValueError, IndexError):\n",
    "                print('Invalid choice, try again.')"
   ]
  },
  {
   "cell_type": "code",
   "execution_count": null,
   "metadata": {},
   "outputs": [],
   "source": []
  }
 ],
 "metadata": {
  "kernelspec": {
   "display_name": "Python 3",
   "language": "python",
   "name": "python3"
  },
  "language_info": {
   "codemirror_mode": {
    "name": "ipython",
    "version": 3
   },
   "file_extension": ".py",
   "mimetype": "text/x-python",
   "name": "python",
   "nbconvert_exporter": "python",
   "pygments_lexer": "ipython3",
   "version": "3.6.4"
  }
 },
 "nbformat": 4,
 "nbformat_minor": 2
}
