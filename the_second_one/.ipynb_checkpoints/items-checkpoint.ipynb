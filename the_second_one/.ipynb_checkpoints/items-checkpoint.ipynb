{
 "cells": [
  {
   "cell_type": "code",
   "execution_count": 2,
   "metadata": {},
   "outputs": [],
   "source": [
    "''' Parent class for items with following basic attributes: name, description, value'''\n",
    "\n",
    "class item:\n",
    "    def __init__(self, name, description, value):\n",
    "        self.name = name\n",
    "        self.description = description\n",
    "        self.value = value"
   ]
  },
  {
   "cell_type": "code",
   "execution_count": 56,
   "metadata": {},
   "outputs": [],
   "source": [
    "''' Parent classes for three main types of items, each with added descriptions'''\n",
    "\n",
    "class heal_item(item):\n",
    "    def __init__(self, name, description, value, healing_points):\n",
    "        self.healing_points = healing_points\n",
    "        super().__init__(name, description, value)\n",
    "        \n",
    "    def __str__(self):\n",
    "        return '{} \\n ========== \\n{} \\n ========== \\nValue: {} \\nHealing Points: {} \\n ========== '.format(self.name, self.description, self.value, self.healing_points)\n",
    "\n",
    "class weapon_item(item):\n",
    "    def __init__(self, name, description, value, damage):\n",
    "        self.damage = damage\n",
    "        super().__init__(name, description, value)\n",
    "        \n",
    "    def __str__(self):\n",
    "        return '{} \\n ========== \\n{} \\n ========== \\nValue: {} \\nDamage: {} \\n ========== '.format(self.name, self.description, self.value, self.damage)\n",
    "\n",
    "class note_item(item):\n",
    "    def __init__(self, name, description, value, writing):\n",
    "        self.writing = writing\n",
    "        super().__init__(name, description, value)\n",
    "        \n",
    "    def __str__(self):\n",
    "        return '{} \\n ========== \\n{} \\n ========== \\nValue: {} \\nWriting: {} \\n ========== '.format(self.name, self.description, self.value, self.writing)"
   ]
  },
  {
   "cell_type": "code",
   "execution_count": 3,
   "metadata": {},
   "outputs": [],
   "source": [
    "class gold_item(item):\n",
    "    def __init__(self, worth):\n",
    "        self.worth = worth\n",
    "        super().__init__(name=\"Gold\",\n",
    "                         description=\"Looks like about {} worth of gold. Beautiful, pure, gold.\".format(str(self.worth)),\n",
    "                         value=self.worth)"
   ]
  },
  {
   "cell_type": "code",
   "execution_count": 57,
   "metadata": {},
   "outputs": [],
   "source": [
    "''' Healing items put in this section '''\n",
    "\n",
    "chalk = heal_item(name = 'Chalk', \n",
    "                  description = 'A piece of brand-new white chalk. Unfortunately it\\'s bite-sized, so it won\\'t heal you much.',\n",
    "                  value = 5, \n",
    "                  healing_points = 10)\n",
    "\n",
    "eraser = heal_item(name = 'Eraser', \n",
    "                   description = 'An eraser! Lightly dusted. It has the faint smell of chalk on it.', \n",
    "                   value = 10, \n",
    "                   healing_points = 25)\n",
    "\n",
    "slippers = heal_item(name = 'Slippers', \n",
    "                     description = 'Two identical slippers. Soft to the touch. Very valuable. An important commodity for any scientist.', \n",
    "                     value = 30, \n",
    "                     healing_points = 50)"
   ]
  },
  {
   "cell_type": "code",
   "execution_count": 58,
   "metadata": {},
   "outputs": [],
   "source": [
    "''' Weapons put in this section '''\n",
    "\n",
    "first_law = weapon_item(name = 'The First Law', \n",
    "                        description = 'Damage dealt to me hurts, but damage dealt to an enemy hurts more.', \n",
    "                        value = 15,\n",
    "                        damage = 13)\n",
    "\n",
    "second_law = weapon_item(name = 'The Second Law',\n",
    "                         description = 'Enemies won\\'t be able to tell where I\\'m coming from. Conservation of Energy is violated',\n",
    "                         value = 17.6,\n",
    "                         damage = 19)\n",
    "\n",
    "third_law = weapon_item(name = 'The Third Law',\n",
    "                        description = 'Blinded by my fast attacks! Face the justice of the universe, enemies!',\n",
    "                        value = 21.9,\n",
    "                        damage = 29)\n",
    "\n",
    "zeroth_law = weapon_item(name = 'The Zeroth Law',\n",
    "                         description = 'Decrease the total entropy of the universe! My attacks will vaporize my enemies.',\n",
    "                         value = 29.4,\n",
    "                         damage = 37)"
   ]
  },
  {
   "cell_type": "code",
   "execution_count": null,
   "metadata": {},
   "outputs": [],
   "source": [
    "''' Put notes here '''\n",
    "\n",
    "atbash_note = note_item(name = 'A mysterious note',\n",
    "                        description = 'This note has hastily drawn scribbles all over it, most of them unintelligible. You can only read a small section. In the corner of this paper, you see small writing that says \\\"@BASH\\\".',\n",
    "                        value = 1,\n",
    "                        writing = 'Vevib grnv R orxp z hgznk, R xlmhfnv z gvmgs lu z xzolirv.')\n",
    "\n",
    "base64_note = note_item(name = 'A mysterious note',\n",
    "                        description = 'This note glows faintly. On it are recognizable runes and symbols, but in no discernable order. In the corner you see \\\"64\\\".',\n",
    "                        value = 1,\n",
    "                        writing = 'U3R1ZGllcyBzaG93IHRoYXQgaWYgYSBjYXQgZmFsbHMgb2ZmIHRoZSBzZXZlbnRoIGZsb29yIG9mIGEgYnVpbGRpbmcgaXQgaGFzIGFib3V0IHRoaXJ0eSBwZXJjZW50IGxlc3MgY2hhbmNlIG9mIHN1cnZpdmluZyB0aGFuIGEgY2F0IHRoYXQgZmFsbHMgb2ZmIHRoZSB0d2VudGlldGggZmxvb3IuIEl0IHN1cHBvc2VkbHkgdGFrZXMgYWJvdXQgZWlnaHQgZmxvb3JzIGZvciB0aGUgY2F0IHRvIHJlYWxpemUgd2hhdCBpcyBvY2N1cnJpbmcsIHJlbGF4IGFuZCBjb3JyZWN0IGl0c2VsZi4=')\n",
    "\n",
    "caesarian_6_note = note_item(name = 'A mysterious note',\n",
    "                             description = 'This note smells like someone\\'s smelly aunt. Not your own, of course. In the corner you see \\\"Hail Caesar\\\".',\n",
    "                             value = 1,\n",
    "                             writing = 'Nby upyluay jylmih mjyhxm 6 gihnbm iz nbycl fczy mcnncha un lyx fcabnm.')\n",
    "\n",
    "morse_note = note_item(name = 'A mysterious note',\n",
    "                       description = 'This note is soft. It reminds you of that one time... In the corner, you see \\\"Morose\\\".',\n",
    "                       value = 1,\n",
    "                       writing = '--- -. . / --.- ..- .- .-. - . .-. / --- ..-. / - .... . / -... --- -. . ... / .. -. / -.-- --- ..- .-. / -... --- -.. -.-- / .- .-. . / .. -. / -.-- --- ..- .-. / ..-. . . - .-.-.-')"
   ]
  }
 ],
 "metadata": {
  "kernelspec": {
   "display_name": "Python 3",
   "language": "python",
   "name": "python3"
  },
  "language_info": {
   "codemirror_mode": {
    "name": "ipython",
    "version": 3
   },
   "file_extension": ".py",
   "mimetype": "text/x-python",
   "name": "python",
   "nbconvert_exporter": "python",
   "pygments_lexer": "ipython3",
   "version": "3.6.4"
  }
 },
 "nbformat": 4,
 "nbformat_minor": 2
}
