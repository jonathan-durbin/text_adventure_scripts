{
 "cells": [
  {
   "cell_type": "code",
   "execution_count": null,
   "metadata": {},
   "outputs": [],
   "source": [
    "class Item():\n",
    "# The base class for all items\n",
    "    def __init__(self, name, description, value):\n",
    "        self.name = name\n",
    "        self.description = description\n",
    "        self.value = value\n",
    "    \n",
    "    def __str__(self):\n",
    "        return \"{}\\n=====\\n{}\\nValue: {}\\n\".format(self.name, self.description, self.value)"
   ]
  },
  {
   "cell_type": "code",
   "execution_count": null,
   "metadata": {},
   "outputs": [],
   "source": [
    "class Gold(Item):\n",
    "    def __init(self, amt):\n",
    "        self.amt = amt\n",
    "        super().__init__(name=\"Gold\",\n",
    "                        description=\"A round coin with {} stamped on the front.\".format(str(self.amt)),\n",
    "                        value=self.amt)"
   ]
  },
  {
   "cell_type": "code",
   "execution_count": null,
   "metadata": {},
   "outputs": [],
   "source": [
    "class Weapon(Item):\n",
    "    def __init__(self, name, description, value, damage):\n",
    "        self.damage = damage\n",
    "        super().__init__(name, description, value)\n",
    "    def __str__(self):\n",
    "        return \"{}\\n=====\\n{}\\nValue: {}\\nDamage: {}\".format(self.name, self.description, self.value, self.damage)"
   ]
  },
  {
   "cell_type": "code",
   "execution_count": null,
   "metadata": {},
   "outputs": [],
   "source": [
    "class Rock(Weapon):\n",
    "    def __init__(self):\n",
    "        super().__init__(name=\"Rock\",\n",
    "                        description=\"A fist-sized rock, suitable for bludgeoning.\",\n",
    "                        value=0,\n",
    "                        damage=5)\n",
    "\n",
    "class Dagger(Weapon):\n",
    "    def __init__(self):\n",
    "        super().__init__(name=\"Dagger\",\n",
    "                        description=\"A small dagger with a rusty blade. Somewhat more dangerous than a rock.\",\n",
    "                        value=10,\n",
    "                        damage=10)"
   ]
  }
 ],
 "metadata": {
  "kernelspec": {
   "display_name": "Python 3",
   "language": "python",
   "name": "python3"
  },
  "language_info": {
   "codemirror_mode": {
    "name": "ipython",
    "version": 3
   },
   "file_extension": ".py",
   "mimetype": "text/x-python",
   "name": "python",
   "nbconvert_exporter": "python",
   "pygments_lexer": "ipython3",
   "version": "3.6.4"
  }
 },
 "nbformat": 4,
 "nbformat_minor": 2
}
