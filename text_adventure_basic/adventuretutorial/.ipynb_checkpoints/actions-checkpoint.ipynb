{
 "cells": [
  {
   "cell_type": "code",
   "execution_count": null,
   "metadata": {},
   "outputs": [],
   "source": [
    "import player"
   ]
  },
  {
   "cell_type": "code",
   "execution_count": null,
   "metadata": {},
   "outputs": [],
   "source": [
    "class Action():\n",
    "    def __init__(self, method, name, hotkey, **kwargs):\n",
    "        self.method = method\n",
    "        self.hotkey = hotkey\n",
    "        self.name = name\n",
    "        self.kwargs = kwargs\n",
    "        \n",
    "    def __str__(self):\n",
    "        return \"{}: {}\".format(self.hotkey, self.name)"
   ]
  },
  {
   "cell_type": "code",
   "execution_count": null,
   "metadata": {},
   "outputs": [],
   "source": [
    "class MoveNorth(Action):\n",
    "    def __init__(self):\n",
    "        super().__init__(method=Player.move_north, \n",
    "                         name='Move north', \n",
    "                         hotkey='n')\n",
    "\n",
    "class MoveSouth(Action):\n",
    "    def __init__(self):\n",
    "        super().__init__(method=Player.move_south, \n",
    "                         name='Move south', \n",
    "                         hotkey='s')\n",
    "\n",
    "class MoveEast(Action):\n",
    "    def __init__(self):\n",
    "        super().__init__(method=Player.move_east, \n",
    "                         name='Move east', \n",
    "                         hotkey='e')\n",
    "\n",
    "class MoveWest(Action):\n",
    "    def __init__(self):\n",
    "        super().__init__(method=Player.move_west, \n",
    "                         name='Move west', \n",
    "                         hotkey='w')"
   ]
  },
  {
   "cell_type": "code",
   "execution_count": null,
   "metadata": {},
   "outputs": [],
   "source": [
    "class ViewInventory(Action):\n",
    "    \"\"\"Prints the player's inventory\"\"\"\n",
    "    def __init__(self):\n",
    "        super().__init__(method=Player.print_inventory, \n",
    "                         name='View inventory', \n",
    "                         hotkey='i')"
   ]
  },
  {
   "cell_type": "code",
   "execution_count": null,
   "metadata": {},
   "outputs": [],
   "source": [
    "class Attack(Action):\n",
    "    def __init__(self, enemy):\n",
    "        super().__init__(method=Player.attack, \n",
    "                         hotkey = 'a', \n",
    "                         enemy=enemy)"
   ]
  }
 ],
 "metadata": {
  "kernelspec": {
   "display_name": "Python 3",
   "language": "python",
   "name": "python3"
  },
  "language_info": {
   "codemirror_mode": {
    "name": "ipython",
    "version": 3
   },
   "file_extension": ".py",
   "mimetype": "text/x-python",
   "name": "python",
   "nbconvert_exporter": "python",
   "pygments_lexer": "ipython3",
   "version": "3.6.4"
  }
 },
 "nbformat": 4,
 "nbformat_minor": 2
}
