{
 "cells": [
  {
   "cell_type": "code",
   "execution_count": null,
   "metadata": {},
   "outputs": [],
   "source": [
    "import random\n",
    "import items, world"
   ]
  },
  {
   "cell_type": "code",
   "execution_count": null,
   "metadata": {},
   "outputs": [],
   "source": [
    "class Player():\n",
    "    def __init__(self):\n",
    "        self.inventory = [items.Gold(15), items.Rock()]\n",
    "        self.hp = 100\n",
    "        self.location_x, self.location_y = world.starting_position\n",
    "        self.victory = False\n",
    "        \n",
    "    def is_alive(self):\n",
    "        return self.hp > 0\n",
    "    \n",
    "    def print_inventory(self):\n",
    "        for item in self.inventory:\n",
    "            print(item, '\\n')"
   ]
  },
  {
   "cell_type": "code",
   "execution_count": null,
   "metadata": {},
   "outputs": [],
   "source": [
    "    def move(self, dx, dy):\n",
    "        self.location_x += dx\n",
    "        self.location_y += dy\n",
    "        print(world.tile_exists(self.location_x, self.location_y).intro_text())\n",
    "\n",
    "    def move_north(self):\n",
    "        self.move(dx=0, dy=-1)\n",
    "\n",
    "    def move_south(self):\n",
    "        self.move(dx=0, dy=1)\n",
    "\n",
    "    def move_east(self):\n",
    "        self.move(dx=1, dy=0)\n",
    "\n",
    "    def move_west(self):\n",
    "        self.move(dx=-1, dy=0)"
   ]
  },
  {
   "cell_type": "code",
   "execution_count": null,
   "metadata": {},
   "outputs": [],
   "source": [
    "    def attack(self, enemy):\n",
    "        best_weapon = None\n",
    "        max_dmg = 0\n",
    "        \n",
    "        for i in self.inventory:\n",
    "            if isinstance(i, items.Weapon):\n",
    "                if i.damage > max_dmg:\n",
    "                    max_dmg = i.damage\n",
    "                    best_weapon = i\n",
    "        \n",
    "        print(\"You use {} against {}!\".format(best_weapon.name, enemy.name))\n",
    "        enemy.hp -= best_weapon.damage\n",
    "        if not enemy.is_alive():\n",
    "            print(\"You killed {}!\".format(enemy.name))\n",
    "        else:\n",
    "            print(\"{} HP is {}>\".format(enemy.name, enemy.hp))"
   ]
  },
  {
   "cell_type": "code",
   "execution_count": null,
   "metadata": {},
   "outputs": [],
   "source": [
    "def do_action(self, action, **kwargs):\n",
    "    action_method = getattr(self, action.method.__name__)\n",
    "    if action_method:\n",
    "        action_method(**kwargs)"
   ]
  },
  {
   "cell_type": "code",
   "execution_count": null,
   "metadata": {},
   "outputs": [],
   "source": [
    "def Flee(action):\n",
    "    def __init__(self, tile):\n",
    "        super().__init__(method=Player.flee, name=\"Flee\", hotkey='f', tile = tile)"
   ]
  }
 ],
 "metadata": {
  "kernelspec": {
   "display_name": "Python 3",
   "language": "python",
   "name": "python3"
  },
  "language_info": {
   "codemirror_mode": {
    "name": "ipython",
    "version": 3
   },
   "file_extension": ".py",
   "mimetype": "text/x-python",
   "name": "python",
   "nbconvert_exporter": "python",
   "pygments_lexer": "ipython3",
   "version": "3.6.4"
  }
 },
 "nbformat": 4,
 "nbformat_minor": 2
}
