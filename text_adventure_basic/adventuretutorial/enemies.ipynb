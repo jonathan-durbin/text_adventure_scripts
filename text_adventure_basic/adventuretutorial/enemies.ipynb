{
 "cells": [
  {
   "cell_type": "code",
   "execution_count": null,
   "metadata": {},
   "outputs": [],
   "source": [
    "class Enemy:\n",
    "    def __init__(self, name, hp, damage):\n",
    "        self.name = name\n",
    "        self.hp = hp\n",
    "        self.damage = damage\n",
    "        \n",
    "    def is_alive(self):\n",
    "        return self.hp > 0"
   ]
  },
  {
   "cell_type": "code",
   "execution_count": null,
   "metadata": {},
   "outputs": [],
   "source": [
    "class GiantSpider(Enemy):\n",
    "    def __init__(self):\n",
    "        super().__init__(name=\"Giant Spider\",\n",
    "                        hp=10,\n",
    "                        damage=2)\n",
    "        \n",
    "class Ogre(Enemy):\n",
    "    def __init__(self):\n",
    "        super().__init__(name=\"Ogre\",\n",
    "                        hp=30,\n",
    "                        damage=15)"
   ]
  }
 ],
 "metadata": {
  "kernelspec": {
   "display_name": "Python 3",
   "language": "python",
   "name": "python3"
  },
  "language_info": {
   "codemirror_mode": {
    "name": "ipython",
    "version": 3
   },
   "file_extension": ".py",
   "mimetype": "text/x-python",
   "name": "python",
   "nbconvert_exporter": "python",
   "pygments_lexer": "ipython3",
   "version": "3.6.4"
  }
 },
 "nbformat": 4,
 "nbformat_minor": 2
}
